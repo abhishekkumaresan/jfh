{
 "cells": [
  {
   "cell_type": "code",
   "execution_count": 1,
   "metadata": {},
   "outputs": [
    {
     "name": "stdout",
     "output_type": "stream",
     "text": [
      "de6e389819bdaa9e0ca60bb52cabccae\n"
     ]
    }
   ],
   "source": [
    "import hashlib\n",
    "\n",
    "user_entered_password = 'pa$$w0rd'\n",
    "salt = \"5gz\"\n",
    "db_password = user_entered_password+salt\n",
    "h = hashlib.md5(db_password.encode())\n",
    "print(h.hexdigest())"
   ]
  },
  {
   "cell_type": "code",
   "execution_count": 5,
   "metadata": {},
   "outputs": [
    {
     "data": {
      "text/plain": [
       "<property at 0x1b6de6d7bf0>"
      ]
     },
     "execution_count": 5,
     "metadata": {},
     "output_type": "execute_result"
    }
   ],
   "source": [
    "from marshmallow import Schema, fields\n",
    "\n",
    "\n",
    "class UserSchema(Schema):\n",
    "    user_name = fields.Str()\n",
    "    first_name = fields.Str()\n",
    "    last_name = fields.Str()\n",
    "    email = fields.Email()\n",
    "\n",
    "\n",
    "UserSchema.dict_class"
   ]
  },
  {
   "cell_type": "code",
   "execution_count": 1,
   "metadata": {},
   "outputs": [
    {
     "data": {
      "text/plain": [
       "False"
      ]
     },
     "execution_count": 1,
     "metadata": {},
     "output_type": "execute_result"
    }
   ],
   "source": [
    "\"$12$2SlzUwZyntOglNF0RJapfuXLu0kMG4dJ5bxq1.wRtIAld.LllgIrq\" == \"$2b$12$5qbBviD87r0tOUdvjc1npe0bnczD5boLg8shmFSZOWMEteXHCLOeS\""
   ]
  },
  {
   "cell_type": "code",
   "execution_count": 11,
   "metadata": {},
   "outputs": [
    {
     "data": {
      "text/plain": [
       "datetime.datetime(2022, 10, 17, 18, 48, tzinfo=datetime.timezone(datetime.timedelta(seconds=19800)))"
      ]
     },
     "execution_count": 11,
     "metadata": {},
     "output_type": "execute_result"
    }
   ],
   "source": [
    "from datetime import datetime\n",
    "datetime.strptime(\"2022-10-17T18:48:00+05:30\",\"%Y-%m-%dT%H:%M:%S%z\")\n"
   ]
  },
  {
   "cell_type": "code",
   "execution_count": null,
   "metadata": {},
   "outputs": [],
   "source": []
  }
 ],
 "metadata": {
  "kernelspec": {
   "display_name": "Python 3.10.7 ('venv': venv)",
   "language": "python",
   "name": "python3"
  },
  "language_info": {
   "codemirror_mode": {
    "name": "ipython",
    "version": 3
   },
   "file_extension": ".py",
   "mimetype": "text/x-python",
   "name": "python",
   "nbconvert_exporter": "python",
   "pygments_lexer": "ipython3",
   "version": "3.10.7"
  },
  "orig_nbformat": 4,
  "vscode": {
   "interpreter": {
    "hash": "7d7ad6a43d4b0c322fc7f36d096762bd2d0713c718a8e2649283f9e23a0d539e"
   }
  }
 },
 "nbformat": 4,
 "nbformat_minor": 2
}
